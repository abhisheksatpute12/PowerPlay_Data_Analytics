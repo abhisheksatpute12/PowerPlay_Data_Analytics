{
 "cells": [
  {
   "cell_type": "code",
   "execution_count": 26,
   "id": "083a19dd",
   "metadata": {},
   "outputs": [],
   "source": [
    "import pandas as pd"
   ]
  },
  {
   "cell_type": "code",
   "execution_count": 27,
   "id": "db739cfc",
   "metadata": {},
   "outputs": [
    {
     "data": {
      "text/plain": [
       "<sqlite3.Cursor at 0x1e0fcf508c0>"
      ]
     },
     "execution_count": 27,
     "metadata": {},
     "output_type": "execute_result"
    }
   ],
   "source": [
    "import sqlite3\n",
    "\n",
    "# Connect to SQLite database (creates a new database if it doesn't exist)\n",
    "conn = sqlite3.connect('example2.db')\n",
    "\n",
    "# Create a cursor object to execute SQL commands\n",
    "cursor = conn.cursor()\n",
    "\n",
    "# SQL command to create a table\n",
    "create_table_query = '''\n",
    "CREATE TABLE IF NOT EXISTS user_profile_data (\n",
    "    User_id INTEGER ,\n",
    "   Install_Date DATETIME,\n",
    "   Role STRING,\n",
    "   Org_ID VARCHAR\n",
    ");\n",
    "'''\n",
    "\n",
    "# Execute the SQL command to create the table\n",
    "cursor.execute(create_table_query)\n",
    "\n",
    "\n"
   ]
  },
  {
   "cell_type": "code",
   "execution_count": 28,
   "id": "b0718a2f",
   "metadata": {},
   "outputs": [],
   "source": [
    "user_data = [\n",
    "    (1,\"2022-05-01 12:30:45\", \"Site Engineer\",\"O1\"),\n",
    "(1,\"2023-04-01 00:30:46\",\"Planning Manager\",\"O2\"),\n",
    "(1,\"2023-07-01 05:45\", \"Owner\",\"OAE1\"),\n",
    "(2,\"2021-04-03 14:23\",\"SIte Engineer\",\"OO1\"),\n",
    "(2,\"2022-12-12 03:25\",\"Site Supervisor\",\"OO2\"),\n",
    "(3,\"2023-01-01 16:45\",\"Project Manager\",\"AA1\"),\n",
    "(3,\"2023-03-03 10:10\",\"Project Manager\",\"AA2\"),\n",
    "(3,\"2023-03-03 11:11\",\"CXO\",\"AA3\" )\n",
    "]"
   ]
  },
  {
   "cell_type": "code",
   "execution_count": 29,
   "id": "cc722192",
   "metadata": {},
   "outputs": [
    {
     "data": {
      "text/plain": [
       "<sqlite3.Cursor at 0x1e0fcf508c0>"
      ]
     },
     "execution_count": 29,
     "metadata": {},
     "output_type": "execute_result"
    }
   ],
   "source": [
    "insert_query = '''\n",
    "INSERT INTO user_profile_data (User_id, Install_Date,Role,Org_ID) VALUES (?, ?, ?, ?)\n",
    "'''\n",
    "\n",
    "# Execute the SQL command for each set of data\n",
    "cursor.executemany(insert_query, user_data)"
   ]
  },
  {
   "cell_type": "code",
   "execution_count": 30,
   "id": "b62a46ba",
   "metadata": {},
   "outputs": [
    {
     "data": {
      "text/plain": [
       "<sqlite3.Cursor at 0x1e0fcf508c0>"
      ]
     },
     "execution_count": 30,
     "metadata": {},
     "output_type": "execute_result"
    }
   ],
   "source": [
    "cursor.execute(\"SELECT * FROM user_profile_data\")"
   ]
  },
  {
   "cell_type": "code",
   "execution_count": 31,
   "id": "8a750761",
   "metadata": {},
   "outputs": [
    {
     "name": "stdout",
     "output_type": "stream",
     "text": [
      "   User_id         Install_Date              Role Org_ID\n",
      "0        1  2022-05-01 12:30:45     Site Engineer     O1\n",
      "1        1  2023-04-01 00:30:46  Planning Manager     O2\n",
      "2        1     2023-07-01 05:45             Owner   OAE1\n",
      "3        2     2021-04-03 14:23     SIte Engineer    OO1\n",
      "4        2     2022-12-12 03:25   Site Supervisor    OO2\n",
      "5        3     2023-01-01 16:45   Project Manager    AA1\n",
      "6        3     2023-03-03 10:10   Project Manager    AA2\n",
      "7        3     2023-03-03 11:11               CXO    AA3\n"
     ]
    }
   ],
   "source": [
    "result = pd.read_sql_query(\"SELECT * FROM user_profile_data\",conn)\n",
    "print(result)\n"
   ]
  },
  {
   "cell_type": "code",
   "execution_count": 32,
   "id": "b81bed85",
   "metadata": {},
   "outputs": [],
   "source": [
    "#Write a query to return the latest entry against the user id using SubQuery & Join.\n",
    "\n",
    "\n",
    "query1=\"\"\"\n",
    "SELECT u.user_id, u.install_date, u.role, u.org_id\n",
    "FROM user_profile_data u\n",
    "JOIN (\n",
    "    SELECT user_id, MAX(install_date) AS max_install_date\n",
    "    FROM user_profile_data\n",
    "    GROUP BY user_id\n",
    ") e ON u.user_id = e.user_id AND u.install_date = e.max_install_date;\n",
    "\n",
    "\"\"\""
   ]
  },
  {
   "cell_type": "code",
   "execution_count": 33,
   "id": "fd8acddd",
   "metadata": {},
   "outputs": [
    {
     "name": "stdout",
     "output_type": "stream",
     "text": [
      "   User_id      Install_Date             Role Org_ID\n",
      "0        1  2023-07-01 05:45            Owner   OAE1\n",
      "1        2  2022-12-12 03:25  Site Supervisor    OO2\n",
      "2        3  2023-03-03 11:11              CXO    AA3\n"
     ]
    }
   ],
   "source": [
    "result = pd.read_sql_query(query1,conn)\n",
    "print(result)\n"
   ]
  },
  {
   "cell_type": "code",
   "execution_count": 34,
   "id": "dff4f931",
   "metadata": {},
   "outputs": [],
   "source": [
    "#\n",
    "query2=\"\"\"\n",
    "SELECT user_id, install_date, role, org_id\n",
    "FROM (\n",
    "SELECT user_id, install_date, role, org_id,\n",
    "ROW_NUMBER() OVER (PARTITION BY user_id ORDER BY install_date DESC) AS row_num\n",
    "FROM user_profile_data\n",
    ") AS ranked_entries\n",
    "WHERE row_num = 1;\n",
    "\n",
    "\"\"\""
   ]
  },
  {
   "cell_type": "code",
   "execution_count": 35,
   "id": "9d3581c1",
   "metadata": {},
   "outputs": [
    {
     "name": "stdout",
     "output_type": "stream",
     "text": [
      "   user_id      install_date             role org_id\n",
      "0        1  2023-07-01 05:45            Owner   OAE1\n",
      "1        2  2022-12-12 03:25  Site Supervisor    OO2\n",
      "2        3  2023-03-03 11:11              CXO    AA3\n"
     ]
    }
   ],
   "source": [
    "result = pd.read_sql_query(query2,conn)\n",
    "print(result)\n"
   ]
  },
  {
   "cell_type": "code",
   "execution_count": 36,
   "id": "a80a844d",
   "metadata": {},
   "outputs": [],
   "source": [
    "user_data_2=[\n",
    "    (\"56KHB\",1234,\"2021-01-20 13:33:44\",\"biscuit\",\"food\",100),\n",
    "    (\"56KHB\",1234,\"2021-01-20 13:33:44\",\"crocin\",\"medicine\",50),\n",
    "    (\"32HBK\",1235,\"2021-08-20 13:38:55\",\"chips\",\"food\",100),\n",
    "    (\"67ABC\",1236,\"2021-08-20 15:32:12\",\"shoes\",\"footwear\",1200),\n",
    "    (\"67ABC\",1236,\"2021-08-20 15:32:12\",\"shirt\",\"clothing\",500),\n",
    "    (\"67ABC\",1236,\"2021-01-20 15:32:12\",\"earphones\",\"electronics\",450),\n",
    "    (\"67ABC\",1237,\"2021-08-20 16:18:19\",\"laptop\",\"electronics\",45000),\n",
    "    (\"67ABC\",1237,\"2021-08-20 16:18:19\",\"socks\",\"clothing\",150)\n",
    "]"
   ]
  },
  {
   "cell_type": "code",
   "execution_count": 37,
   "id": "3e110053",
   "metadata": {},
   "outputs": [],
   "source": [
    "create_table_query2= '''\n",
    "CREATE TABLE IF NOT EXISTS order_table (user_id VARCHAR,\n",
    "order_id INTEGER,\n",
    "purchase_datetime DATETIME,\n",
    "product VARCHAR,\n",
    "category VARCHAR,\n",
    "product_revenue INTEGER\n",
    ");\n",
    "'''"
   ]
  },
  {
   "cell_type": "code",
   "execution_count": 38,
   "id": "725c7dee",
   "metadata": {},
   "outputs": [
    {
     "data": {
      "text/plain": [
       "<sqlite3.Cursor at 0x1e0fcf508c0>"
      ]
     },
     "execution_count": 38,
     "metadata": {},
     "output_type": "execute_result"
    }
   ],
   "source": [
    "cursor.execute(create_table_query2)\n"
   ]
  },
  {
   "cell_type": "code",
   "execution_count": 39,
   "id": "66b13c1f",
   "metadata": {},
   "outputs": [
    {
     "data": {
      "text/plain": [
       "<sqlite3.Cursor at 0x1e0fcf508c0>"
      ]
     },
     "execution_count": 39,
     "metadata": {},
     "output_type": "execute_result"
    }
   ],
   "source": [
    "insert_query = '''\n",
    "INSERT INTO order_table (User_id,order_id,purchase_datetime,product,category,product_revenue) VALUES (?, ?, ?, ?,?,?)\n",
    "'''\n",
    "\n",
    "# Execute the SQL command for each set of data\n",
    "cursor.executemany(insert_query, user_data_2)"
   ]
  },
  {
   "cell_type": "code",
   "execution_count": 40,
   "id": "2175439c",
   "metadata": {},
   "outputs": [
    {
     "name": "stdout",
     "output_type": "stream",
     "text": [
      "  user_id  order_id    purchase_datetime    product     category  \\\n",
      "0   56KHB      1234  2021-01-20 13:33:44    biscuit         food   \n",
      "1   56KHB      1234  2021-01-20 13:33:44     crocin     medicine   \n",
      "2   32HBK      1235  2021-08-20 13:38:55      chips         food   \n",
      "3   67ABC      1236  2021-08-20 15:32:12      shoes     footwear   \n",
      "4   67ABC      1236  2021-08-20 15:32:12      shirt     clothing   \n",
      "5   67ABC      1236  2021-01-20 15:32:12  earphones  electronics   \n",
      "6   67ABC      1237  2021-08-20 16:18:19     laptop  electronics   \n",
      "7   67ABC      1237  2021-08-20 16:18:19      socks     clothing   \n",
      "\n",
      "   product_revenue  \n",
      "0              100  \n",
      "1               50  \n",
      "2              100  \n",
      "3             1200  \n",
      "4              500  \n",
      "5              450  \n",
      "6            45000  \n",
      "7              150  \n"
     ]
    }
   ],
   "source": [
    "result = pd.read_sql_query(\"SELECT * FROM order_table\",conn)\n",
    "print(result)"
   ]
  },
  {
   "cell_type": "code",
   "execution_count": 41,
   "id": "c751cf16",
   "metadata": {},
   "outputs": [],
   "source": [
    "query21=\"\"\"\n",
    "SELECT\n",
    "COUNT(product)\n",
    "FROM order_table\n",
    "WHERE strftime('%Y', purchase_datetime)=\"2021\" AND strftime('%m', purchase_datetime)=\"01\"\n",
    "\n",
    "\n",
    "\"\"\""
   ]
  },
  {
   "cell_type": "code",
   "execution_count": 42,
   "id": "93d756ea",
   "metadata": {},
   "outputs": [
    {
     "name": "stdout",
     "output_type": "stream",
     "text": [
      "   COUNT(product)\n",
      "0               3\n"
     ]
    }
   ],
   "source": [
    "#1.Write a query to find the number of products bought in the month of January 2021.\n",
    "result = pd.read_sql_query(query21,conn)\n",
    "print(result)\n"
   ]
  },
  {
   "cell_type": "code",
   "execution_count": 43,
   "id": "7f5b206a",
   "metadata": {},
   "outputs": [],
   "source": [
    "#2.Write a query to find the second order_id for each user_id ( Without Window Function)\n",
    "\n",
    "query22=\"\"\"\n",
    "SELECT user_id, \n",
    "MIN(order_id) AS second_order_id\n",
    "FROM order_table AS ot1\n",
    "WHERE order_id > (\n",
    "SELECT MIN(order_id)\n",
    "FROM order_table AS ot2\n",
    "WHERE ot1.user_id = ot2.user_id\n",
    ")\n",
    "GROUP BY user_id;\n",
    "\"\"\""
   ]
  },
  {
   "cell_type": "code",
   "execution_count": 44,
   "id": "24568370",
   "metadata": {},
   "outputs": [
    {
     "name": "stdout",
     "output_type": "stream",
     "text": [
      "  user_id  second_order_id\n",
      "0   67ABC             1237\n"
     ]
    }
   ],
   "source": [
    "result = pd.read_sql_query(query22,conn)\n",
    "print(result)"
   ]
  },
  {
   "cell_type": "code",
   "execution_count": 45,
   "id": "52d28582",
   "metadata": {},
   "outputs": [],
   "source": [
    "#3. Write a query to find the min, max and average time between two orders for any user.\t\n",
    "query23=\"\"\"\n",
    "SELECT user_id,\n",
    "       MIN(time_diff) AS min_time_between_orders,\n",
    "       MAX(time_diff) AS max_time_between_orders,\n",
    "       AVG(time_diff) AS avg_time_between_orders\n",
    "FROM (\n",
    "    SELECT user_id,\n",
    "           purchase_datetime,\n",
    "           (SELECT MIN(purchase_datetime) \n",
    "            FROM order_table \n",
    "            WHERE user_id = o.user_id AND purchase_datetime > o.purchase_datetime) AS next_purchase_datetime,\n",
    "           CAST((julianday((SELECT MIN(purchase_datetime) \n",
    "                            FROM order_table \n",
    "                            WHERE user_id = o.user_id AND purchase_datetime > o.purchase_datetime)) - julianday(purchase_datetime)) * 24 * 60 AS INTEGER) AS time_diff\n",
    "    FROM order_table AS o\n",
    ") AS time_diffs\n",
    "WHERE next_purchase_datetime IS NOT NULL\n",
    "GROUP BY user_id;\n",
    "\n",
    "\"\"\""
   ]
  },
  {
   "cell_type": "code",
   "execution_count": 46,
   "id": "c1960ff1",
   "metadata": {},
   "outputs": [
    {
     "name": "stdout",
     "output_type": "stream",
     "text": [
      "  user_id  min_time_between_orders  max_time_between_orders  \\\n",
      "0   67ABC                       46                   305280   \n",
      "\n",
      "   avg_time_between_orders  \n",
      "0            101790.666667  \n"
     ]
    }
   ],
   "source": [
    "result = pd.read_sql_query(query23,conn)\n",
    "print(result)"
   ]
  },
  {
   "cell_type": "code",
   "execution_count": 47,
   "id": "43887239",
   "metadata": {},
   "outputs": [
    {
     "name": "stdout",
     "output_type": "stream",
     "text": [
      "          Imei     Model  OS Version Country Product_name  Mobileid\n",
      "0  12344567777  Apple 12        17.0      us    iphone 12        23\n"
     ]
    }
   ],
   "source": [
    "import pandas as pd\n",
    "\n",
    "\n",
    "mobile_data = {\"Name\": \"xyz\",\n",
    "\"Mobile\": \"Iphone\",\n",
    "    \"Mobileid\": 23,\n",
    "    \"Mapping\": {\n",
    "        \"Imei\": 12344567777,\n",
    "        \"Specification\": {\n",
    "            \"Model\": \"Apple 12\",\n",
    "            \"OS Version\": 17.0,\n",
    "        },\n",
    "        \"Country\": \"us\",\n",
    "        \"Product_name\": \"iphone 12\"\n",
    "    }\n",
    "}\n",
    "\n",
    "\n",
    "output_data = {\n",
    "    \"Imei\": mobile_data[\"Mapping\"][\"Imei\"],\n",
    "    \"Model\": mobile_data[\"Mapping\"][\"Specification\"][\"Model\"],\n",
    "    \"OS Version\": mobile_data[\"Mapping\"][\"Specification\"][\"OS Version\"],\n",
    "    \"Country\": mobile_data[\"Mapping\"][\"Country\"],\n",
    "    \"Product_name\": mobile_data[\"Mapping\"][\"Product_name\"],\n",
    "    \"Mobileid\": mobile_data[\"Mobileid\"]\n",
    "}\n",
    "\n",
    "\n",
    "output_df = pd.DataFrame([output_data])\n",
    "\n",
    "\n",
    "print(output_df)\n"
   ]
  },
  {
   "cell_type": "code",
   "execution_count": null,
   "id": "3d08e364",
   "metadata": {},
   "outputs": [],
   "source": []
  }
 ],
 "metadata": {
  "kernelspec": {
   "display_name": "Python 3 (ipykernel)",
   "language": "python",
   "name": "python3"
  },
  "language_info": {
   "codemirror_mode": {
    "name": "ipython",
    "version": 3
   },
   "file_extension": ".py",
   "mimetype": "text/x-python",
   "name": "python",
   "nbconvert_exporter": "python",
   "pygments_lexer": "ipython3",
   "version": "3.11.4"
  }
 },
 "nbformat": 4,
 "nbformat_minor": 5
}
